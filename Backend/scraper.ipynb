{
 "cells": [
  {
   "cell_type": "markdown",
   "id": "841743f7",
   "metadata": {},
   "source": [
    "# Bank of Maharashtra Loan Data Scraper POC\n",
    "\n",
    "**Data Scraping**: It contains a Python script to scrape loan product information from the official Bank of Maharashtra website."
   ]
  },
  {
   "cell_type": "code",
   "execution_count": 1,
   "id": "06d3a651",
   "metadata": {},
   "outputs": [],
   "source": [
    "import requests\n",
    "from bs4 import BeautifulSoup\n",
    "import re\n",
    "from src.utils.Logger import Logger\n",
    "from src.config.ConfigHelper import ConfigHelper\n",
    "from src.helpers.PromptTemplate import PromptTemplate\n",
    "from src.helpers.OpenAIHelper import AIHelper\n",
    "from src.models.FaissClient import FaissClient\n",
    "__config = ConfigHelper().config\n",
    "__loggerObj = Logger()\n",
    "prompt = PromptTemplate(__loggerObj)\n",
    "ai = AIHelper(__loggerObj, __config)\n",
    "faiss = FaissClient(logger=__loggerObj,config=__config)"
   ]
  },
  {
   "cell_type": "code",
   "execution_count": 2,
   "id": "6031fce9",
   "metadata": {},
   "outputs": [],
   "source": [
    "loan_product_url_json = {\n",
    "    \"home-loan\": \"https://bankofmaharashtra.in/personal-banking/loans/home-loan\",\n",
    "    \"super-flexi-housing-loan\": \"https://bankofmaharashtra.in/maha-super-flexi-housing-loan-scheme\",\n",
    "    \"awas-yojana\":\"https://bankofmaharashtra.in/pradhan-mantri-awas-yojana-2\",\n",
    "    \"car-loan\": \"https://bankofmaharashtra.in/personal-banking/loans/car-loan\",\n",
    "    \"two-wheelers\": \"bankofmaharashtra.in/mahabank-vehicle-loan-scheme-for-two-wheelers-loans\",\n",
    "    \"second-hand-car\": \"bankofmaharashtra.in/mahabank-vehicle-loan-scheme-for-second-hand-car\",\n",
    "    \"topup-home-loan\":\"https://bankofmaharashtra.in/topup-home-loan\",\n",
    "    \"education-loan\": \"https://bankofmaharashtra.in/educational-loans\",\n",
    "    \"gold-loan\": \"https://bankofmaharashtra.in/gold-loan\",\n",
    "    \"personal-loan\": \"https://bankofmaharashtra.in/personal-banking/loans/personal-loan\",\n",
    "    \"salary-gain-scheme\": \"https://bankofmaharashtra.in/salary-gain-scheme\",\n",
    "    \"property-loan\": \"https://bankofmaharashtra.in/loan-against-property\",\n",
    "    \"maha-adhaar-loan\": \"https://bankofmaharashtra.in/maha-adhaar-loan\",\n",
    "    \"green-financing-scheme\":\"https://bankofmaharashtra.in/mahabank-green-financing-scheme\",\n",
    "    \"rooftop-solar-panel\":\"https://bankofmaharashtra.in/mahabank-rooftop-solar-panel-loan\",\n",
    "    \"deposit\": \"bankofmaharashtra.in/lad\"\n",
    "}"
   ]
  },
  {
   "cell_type": "code",
   "execution_count": 3,
   "id": "712eb7a1",
   "metadata": {},
   "outputs": [],
   "source": [
    "def scrape_page_content(url):\n",
    "    \"\"\"\n",
    "    Scrapes the main content from a given URL.\n",
    "    \n",
    "    Args:\n",
    "        url (str): The URL of the loan product page.\n",
    "        \n",
    "    Returns:\n",
    "        str: The cleaned text content of the page, or None if scraping fails.\n",
    "    \"\"\"\n",
    "    try:\n",
    "        print(f\"Fetching {url}...\")\n",
    "        headers = {'User-Agent': 'Mozilla/5.0 (Windows NT 10.0; Win64; x64) AppleWebKit/537.36 (KHTML, like Gecko) Chrome/91.0.4472.124 Safari/537.36'}\n",
    "        response = requests.get(url, headers=headers, timeout=10)\n",
    "        response.raise_for_status() # Raises an exception for bad status codes (4xx or 5xx)\n",
    "        \n",
    "        soup = BeautifulSoup(response.content, 'html.parser')\n",
    "        \n",
    "        # The main content is within a div with class 'inner-page-content'\n",
    "        content_div = soup.find('div', class_='maincontent')\n",
    "        \n",
    "        if not content_div:\n",
    "            __loggerObj.critical(\"Warning: Could not find the 'maincontent' div in the HTML.\")\n",
    "\n",
    "        apply_button = content_div.find('a', class_='applybtnBig')\n",
    "        if apply_button:\n",
    "            apply_button.decompose() # This removes the tag and its content\n",
    "\n",
    "\n",
    "        text = content_div.get_text(separator=' ', strip=True)\n",
    "\n",
    "        cleaned_text = re.sub(r'\\s+', ' ', text).strip()\n",
    "        return cleaned_text\n",
    "\n",
    "    except requests.exceptions.RequestException as e:\n",
    "        __loggerObj.error(f\"Error fetching {url}: {e}\")\n",
    "        return None"
   ]
  },
  {
   "cell_type": "code",
   "execution_count": 4,
   "id": "3016597f",
   "metadata": {},
   "outputs": [
    {
     "name": "stdout",
     "output_type": "stream",
     "text": [
      "https://bankofmaharashtra.in/personal-banking/loans/home-loan\n",
      "Fetching https://bankofmaharashtra.in/personal-banking/loans/home-loan...\n",
      "https://bankofmaharashtra.in/maha-super-flexi-housing-loan-scheme\n",
      "Fetching https://bankofmaharashtra.in/maha-super-flexi-housing-loan-scheme...\n",
      "https://bankofmaharashtra.in/pradhan-mantri-awas-yojana-2\n",
      "Fetching https://bankofmaharashtra.in/pradhan-mantri-awas-yojana-2...\n",
      "https://bankofmaharashtra.in/personal-banking/loans/car-loan\n",
      "Fetching https://bankofmaharashtra.in/personal-banking/loans/car-loan...\n",
      "bankofmaharashtra.in/mahabank-vehicle-loan-scheme-for-two-wheelers-loans\n",
      "Fetching bankofmaharashtra.in/mahabank-vehicle-loan-scheme-for-two-wheelers-loans...\n",
      "Unable to Scrape the data\n",
      "bankofmaharashtra.in/mahabank-vehicle-loan-scheme-for-second-hand-car\n",
      "Fetching bankofmaharashtra.in/mahabank-vehicle-loan-scheme-for-second-hand-car...\n",
      "Unable to Scrape the data\n",
      "https://bankofmaharashtra.in/topup-home-loan\n",
      "Fetching https://bankofmaharashtra.in/topup-home-loan...\n",
      "https://bankofmaharashtra.in/educational-loans\n",
      "Fetching https://bankofmaharashtra.in/educational-loans...\n",
      "https://bankofmaharashtra.in/gold-loan\n",
      "Fetching https://bankofmaharashtra.in/gold-loan...\n",
      "https://bankofmaharashtra.in/personal-banking/loans/personal-loan\n",
      "Fetching https://bankofmaharashtra.in/personal-banking/loans/personal-loan...\n",
      "https://bankofmaharashtra.in/salary-gain-scheme\n",
      "Fetching https://bankofmaharashtra.in/salary-gain-scheme...\n",
      "https://bankofmaharashtra.in/loan-against-property\n",
      "Fetching https://bankofmaharashtra.in/loan-against-property...\n",
      "https://bankofmaharashtra.in/maha-adhaar-loan\n",
      "Fetching https://bankofmaharashtra.in/maha-adhaar-loan...\n",
      "https://bankofmaharashtra.in/mahabank-green-financing-scheme\n",
      "Fetching https://bankofmaharashtra.in/mahabank-green-financing-scheme...\n",
      "https://bankofmaharashtra.in/mahabank-rooftop-solar-panel-loan\n",
      "Fetching https://bankofmaharashtra.in/mahabank-rooftop-solar-panel-loan...\n",
      "bankofmaharashtra.in/lad\n",
      "Fetching bankofmaharashtra.in/lad...\n",
      "Unable to Scrape the data\n"
     ]
    },
    {
     "data": {
      "text/plain": [
       "True"
      ]
     },
     "execution_count": 4,
     "metadata": {},
     "output_type": "execute_result"
    }
   ],
   "source": [
    "all_loan_data = []\n",
    "\n",
    "for type,url in loan_product_url_json.items():\n",
    "    print(url)\n",
    "    content = scrape_page_content(url)\n",
    "    if content is None:\n",
    "        print(\"Unable to Scrape the data\")\n",
    "        continue\n",
    "    summarize_text = ai.genrate_from_prompt(model=__config['openai']['models']['answer_relevancy'],prompt=prompt.summarization_prompt(content))\n",
    "    data_json = {\n",
    "        \"text\": summarize_text,\n",
    "        \"category\": type}\n",
    "    if summarize_text == \"\":\n",
    "        print(f\"Unable to summarize text for {type}: {url}\")\n",
    "        continue\n",
    "    all_loan_data.append(data_json)\n",
    "\n",
    "faiss.insert_texts(all_loan_data)"
   ]
  },
  {
   "cell_type": "code",
   "execution_count": null,
   "id": "aef29e25",
   "metadata": {},
   "outputs": [],
   "source": []
  },
  {
   "cell_type": "code",
   "execution_count": null,
   "id": "96e5b174",
   "metadata": {},
   "outputs": [],
   "source": []
  }
 ],
 "metadata": {
  "kernelspec": {
   "display_name": ".venv",
   "language": "python",
   "name": "python3"
  },
  "language_info": {
   "codemirror_mode": {
    "name": "ipython",
    "version": 3
   },
   "file_extension": ".py",
   "mimetype": "text/x-python",
   "name": "python",
   "nbconvert_exporter": "python",
   "pygments_lexer": "ipython3",
   "version": "3.13.1"
  }
 },
 "nbformat": 4,
 "nbformat_minor": 5
}
